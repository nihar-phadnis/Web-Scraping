{
 "cells": [
  {
   "cell_type": "code",
   "execution_count": 1,
   "metadata": {},
   "outputs": [],
   "source": [
    "from bs4 import BeautifulSoup\n",
    "import requests\n",
    "import pandas as pd"
   ]
  },
  {
   "cell_type": "code",
   "execution_count": 2,
   "metadata": {},
   "outputs": [],
   "source": [
    "url = \"https://realpython.github.io/fake-jobs/\"\n",
    "source = requests.get(url)\n",
    "\n",
    "soup = BeautifulSoup(source.content, \"html.parser\")\n",
    "#print(soup)"
   ]
  },
  {
   "cell_type": "code",
   "execution_count": 3,
   "metadata": {},
   "outputs": [],
   "source": [
    "result = soup.find(id = \"ResultsContainer\")\n",
    "#print(result.prettify())"
   ]
  },
  {
   "cell_type": "code",
   "execution_count": 4,
   "metadata": {},
   "outputs": [],
   "source": [
    "postings = result.find_all(\"div\", class_= \"card-content\")"
   ]
  },
  {
   "cell_type": "code",
   "execution_count": 5,
   "metadata": {},
   "outputs": [],
   "source": [
    "for posting in postings:\n",
    "    title = posting.find(\"h2\", class_= \"title\")\n",
    "    company = posting.find(\"h3\", class_= \"company\")\n",
    "    #print(title.text)\n",
    "    #print(company.text)\n",
    "    #print()"
   ]
  },
  {
   "cell_type": "code",
   "execution_count": 6,
   "metadata": {},
   "outputs": [],
   "source": [
    "python_jobs = result.find_all(\"h2\", string = \"Python\")"
   ]
  },
  {
   "cell_type": "code",
   "execution_count": 7,
   "metadata": {},
   "outputs": [],
   "source": [
    "python_jobs = result.find_all(\"h2\", string = lambda text: \"python\" in text.lower())"
   ]
  },
  {
   "cell_type": "code",
   "execution_count": 8,
   "metadata": {},
   "outputs": [
    {
     "data": {
      "text/plain": [
       "10"
      ]
     },
     "execution_count": 8,
     "metadata": {},
     "output_type": "execute_result"
    }
   ],
   "source": [
    "len(python_jobs)"
   ]
  },
  {
   "cell_type": "code",
   "execution_count": 9,
   "metadata": {},
   "outputs": [],
   "source": [
    "site = \"https://au.indeed.com/jobs?q=data%20scientist&l=Melbourne%20VIC&vjk=1420393f2a690c69\"\n",
    "\n",
    "source1 = requests.get(site)\n",
    "sauce = BeautifulSoup(source1.content, \"html.parser\")\n",
    "#print(sauce)"
   ]
  },
  {
   "cell_type": "code",
   "execution_count": 10,
   "metadata": {},
   "outputs": [],
   "source": [
    "out = sauce.find(id = \"resultsBody\")\n",
    "#print(out.prettify())"
   ]
  },
  {
   "cell_type": "code",
   "execution_count": 11,
   "metadata": {},
   "outputs": [],
   "source": [
    "posting = out.find_all(\"div\", class_ = \"slider_container\")"
   ]
  },
  {
   "cell_type": "code",
   "execution_count": 12,
   "metadata": {},
   "outputs": [
    {
     "data": {
      "text/html": [
       "<div>\n",
       "<style scoped>\n",
       "    .dataframe tbody tr th:only-of-type {\n",
       "        vertical-align: middle;\n",
       "    }\n",
       "\n",
       "    .dataframe tbody tr th {\n",
       "        vertical-align: top;\n",
       "    }\n",
       "\n",
       "    .dataframe thead th {\n",
       "        text-align: right;\n",
       "    }\n",
       "</style>\n",
       "<table border=\"1\" class=\"dataframe\">\n",
       "  <thead>\n",
       "    <tr style=\"text-align: right;\">\n",
       "      <th></th>\n",
       "      <th>Role</th>\n",
       "      <th>Company</th>\n",
       "    </tr>\n",
       "  </thead>\n",
       "  <tbody>\n",
       "    <tr>\n",
       "      <th>0</th>\n",
       "      <td>Junior Data Scientist</td>\n",
       "      <td>Australian Government Services Australia</td>\n",
       "    </tr>\n",
       "    <tr>\n",
       "      <th>1</th>\n",
       "      <td>Data Scientist</td>\n",
       "      <td>Australian Government Services Australia</td>\n",
       "    </tr>\n",
       "    <tr>\n",
       "      <th>2</th>\n",
       "      <td>Data Scientist (A.I.)</td>\n",
       "      <td>MLC Life Insurance</td>\n",
       "    </tr>\n",
       "    <tr>\n",
       "      <th>3</th>\n",
       "      <td>Data Scientist</td>\n",
       "      <td>ANZ Banking Group</td>\n",
       "    </tr>\n",
       "    <tr>\n",
       "      <th>4</th>\n",
       "      <td>Data Analytics Graduate</td>\n",
       "      <td>EnergyAustralia</td>\n",
       "    </tr>\n",
       "    <tr>\n",
       "      <th>5</th>\n",
       "      <td>data scientist (productionalization focus)</td>\n",
       "      <td>Catch Of The Day</td>\n",
       "    </tr>\n",
       "    <tr>\n",
       "      <th>6</th>\n",
       "      <td>Research Fellow (Data Scientist)</td>\n",
       "      <td>Monash University</td>\n",
       "    </tr>\n",
       "    <tr>\n",
       "      <th>7</th>\n",
       "      <td>Data Scientist</td>\n",
       "      <td>Scalene Group</td>\n",
       "    </tr>\n",
       "    <tr>\n",
       "      <th>8</th>\n",
       "      <td>Graduate Machine Learning (Melbourne based)</td>\n",
       "      <td>KJR</td>\n",
       "    </tr>\n",
       "    <tr>\n",
       "      <th>9</th>\n",
       "      <td>Senior Data Scientist</td>\n",
       "      <td>Risk Solutions</td>\n",
       "    </tr>\n",
       "    <tr>\n",
       "      <th>10</th>\n",
       "      <td>DigitalBCG | GAMMA Data Scientist</td>\n",
       "      <td>Boston Consulting Group</td>\n",
       "    </tr>\n",
       "    <tr>\n",
       "      <th>11</th>\n",
       "      <td>Senior Data Scientist</td>\n",
       "      <td>City West Water</td>\n",
       "    </tr>\n",
       "    <tr>\n",
       "      <th>12</th>\n",
       "      <td>Senior Data Scientist</td>\n",
       "      <td>Eastern Health</td>\n",
       "    </tr>\n",
       "    <tr>\n",
       "      <th>13</th>\n",
       "      <td>Senior Data Scientist</td>\n",
       "      <td>Wesfarmers Advanced Analytics Centre</td>\n",
       "    </tr>\n",
       "    <tr>\n",
       "      <th>14</th>\n",
       "      <td>2023 Data Science Graduate (DSG)</td>\n",
       "      <td>Asahi Beverages</td>\n",
       "    </tr>\n",
       "  </tbody>\n",
       "</table>\n",
       "</div>"
      ],
      "text/plain": [
       "                                           Role  \\\n",
       "0                         Junior Data Scientist   \n",
       "1                                Data Scientist   \n",
       "2                         Data Scientist (A.I.)   \n",
       "3                                Data Scientist   \n",
       "4                       Data Analytics Graduate   \n",
       "5    data scientist (productionalization focus)   \n",
       "6              Research Fellow (Data Scientist)   \n",
       "7                                Data Scientist   \n",
       "8   Graduate Machine Learning (Melbourne based)   \n",
       "9                         Senior Data Scientist   \n",
       "10            DigitalBCG | GAMMA Data Scientist   \n",
       "11                        Senior Data Scientist   \n",
       "12                        Senior Data Scientist   \n",
       "13                        Senior Data Scientist   \n",
       "14             2023 Data Science Graduate (DSG)   \n",
       "\n",
       "                                     Company  \n",
       "0   Australian Government Services Australia  \n",
       "1   Australian Government Services Australia  \n",
       "2                         MLC Life Insurance  \n",
       "3                          ANZ Banking Group  \n",
       "4                            EnergyAustralia  \n",
       "5                           Catch Of The Day  \n",
       "6                          Monash University  \n",
       "7                              Scalene Group  \n",
       "8                                        KJR  \n",
       "9                             Risk Solutions  \n",
       "10                   Boston Consulting Group  \n",
       "11                           City West Water  \n",
       "12                            Eastern Health  \n",
       "13      Wesfarmers Advanced Analytics Centre  \n",
       "14                           Asahi Beverages  "
      ]
     },
     "execution_count": 12,
     "metadata": {},
     "output_type": "execute_result"
    }
   ],
   "source": [
    "job_title = []\n",
    "company_name = []\n",
    "\n",
    "for post in posting:\n",
    "    title = post.find(\"h2\", class_= \"jobTitle\")\n",
    "    #title = [title.replace(\"new\", '') if \"new\" in title else title]\n",
    "    company = post.find(\"span\", class_= \"companyName\")\n",
    "    jobs = title.text\n",
    "    company = company.text\n",
    "    title = [jobs.replace(\"new\", '') if \"new\" in jobs else jobs]\n",
    "    title1 = ''.join(title)\n",
    "    job_title.append(title1)\n",
    "    company_name.append(company)\n",
    "    #print(job_title)\n",
    "    #print()\n",
    "    \n",
    "indeed = {'Role': job_title, 'Company': company_name}\n",
    "\n",
    "df = pd.DataFrame(indeed)\n",
    "\n",
    "df\n",
    "#type(company)"
   ]
  },
  {
   "cell_type": "code",
   "execution_count": null,
   "metadata": {},
   "outputs": [],
   "source": []
  }
 ],
 "metadata": {
  "kernelspec": {
   "display_name": "Python 3",
   "language": "python",
   "name": "python3"
  },
  "language_info": {
   "codemirror_mode": {
    "name": "ipython",
    "version": 3
   },
   "file_extension": ".py",
   "mimetype": "text/x-python",
   "name": "python",
   "nbconvert_exporter": "python",
   "pygments_lexer": "ipython3",
   "version": "3.8.5"
  }
 },
 "nbformat": 4,
 "nbformat_minor": 4
}
